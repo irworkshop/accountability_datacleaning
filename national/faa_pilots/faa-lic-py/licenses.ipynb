{
 "cells": [
  {
   "cell_type": "code",
   "execution_count": 1,
   "id": "44904af7",
   "metadata": {},
   "outputs": [],
   "source": [
    "# Importing packages\n",
    "\n",
    "import pandas as pd\n",
    "from zipfile import ZipFile\n",
    "import os\n",
    "import math\n",
    "import numpy as np\n",
    "from slugify import slugify\n",
    "import re"
   ]
  },
  {
   "cell_type": "code",
   "execution_count": 2,
   "id": "f641ba12",
   "metadata": {},
   "outputs": [],
   "source": [
    "# Set relative filepaths\n",
    "# Download link: https://www.faa.gov/licenses_certificates/aircraft_certification/aircraft_registry/releasable_aircraft_download\n",
    "# Docs link: https://www.faa.gov/sites/faa.gov/files/licenses_certificates/aircraft_certification/aircraft_registry/releasable_aircraft_download/ardata.pdf\n",
    "\n",
    "__file__ = 'os.path.abspath('')'\n",
    "\n",
    "script_dir = os.path.dirname(__file__) \n",
    "rel_path = './data/ReleasableAircraft.zip'\n",
    "abs_file_path = os.path.join(script_dir, rel_path)"
   ]
  },
  {
   "cell_type": "code",
   "execution_count": 3,
   "id": "c91033a2",
   "metadata": {},
   "outputs": [],
   "source": [
    "# Read zipfile\n",
    "\n",
    "zf = ZipFile(abs_file_path) "
   ]
  },
  {
   "cell_type": "code",
   "execution_count": 4,
   "id": "a4b54f3b",
   "metadata": {},
   "outputs": [],
   "source": [
    "# Load the .csv file we need from the zipfile - MASTER.txt\n",
    "\n",
    "master = pd.read_csv(zf.open('MASTER.txt'), low_memory=False)\n",
    "ref = pd.read_csv(zf.open('ACFTREF.txt'))"
   ]
  },
  {
   "cell_type": "code",
   "execution_count": 5,
   "id": "b083ad80",
   "metadata": {},
   "outputs": [],
   "source": [
    "# Slugify columns\n",
    "\n",
    "master.columns = master.columns.str.replace(r'\\W+', '_', regex=True)\n",
    "ref.columns = ref.columns.str.replace(r'\\W+', '_', regex=True)"
   ]
  },
  {
   "cell_type": "code",
   "execution_count": 6,
   "id": "1d45fee4",
   "metadata": {},
   "outputs": [],
   "source": [
    "# Lowercase columns\n",
    "\n",
    "master.columns = [x.lower() for x in master.columns]\n",
    "ref.columns = [x.lower() for x in ref.columns]"
   ]
  },
  {
   "cell_type": "code",
   "execution_count": 7,
   "id": "0d8aaad2",
   "metadata": {},
   "outputs": [
    {
     "name": "stdout",
     "output_type": "stream",
     "text": [
      "<class 'pandas.core.frame.DataFrame'>\n",
      "RangeIndex: 288062 entries, 0 to 288061\n",
      "Data columns (total 35 columns):\n",
      " #   Column            Non-Null Count   Dtype  \n",
      "---  ------            --------------   -----  \n",
      " 0   n_number          288062 non-null  object \n",
      " 1   serial_number     288062 non-null  object \n",
      " 2   mfr_mdl_code      288062 non-null  object \n",
      " 3   eng_mfr_mdl       288062 non-null  object \n",
      " 4   year_mfr          288062 non-null  object \n",
      " 5   type_registrant   288062 non-null  object \n",
      " 6   name              288062 non-null  object \n",
      " 7   street            288062 non-null  object \n",
      " 8   street2           288062 non-null  object \n",
      " 9   city              288062 non-null  object \n",
      " 10  state             288062 non-null  object \n",
      " 11  zip_code          288062 non-null  object \n",
      " 12  region            288062 non-null  object \n",
      " 13  county            288062 non-null  object \n",
      " 14  country           288062 non-null  object \n",
      " 15  last_action_date  288062 non-null  int64  \n",
      " 16  cert_issue_date   288062 non-null  object \n",
      " 17  certification     288062 non-null  object \n",
      " 18  type_aircraft     288062 non-null  object \n",
      " 19  type_engine       288062 non-null  int64  \n",
      " 20  status_code       288062 non-null  object \n",
      " 21  mode_s_code       288062 non-null  int64  \n",
      " 22  fract_owner       288062 non-null  object \n",
      " 23  air_worth_date    288062 non-null  object \n",
      " 24  other_names_1_    288062 non-null  object \n",
      " 25  other_names_2_    288062 non-null  object \n",
      " 26  other_names_3_    288062 non-null  object \n",
      " 27  other_names_4_    288062 non-null  object \n",
      " 28  other_names_5_    288062 non-null  object \n",
      " 29  expiration_date   288062 non-null  object \n",
      " 30  unique_id         288062 non-null  int64  \n",
      " 31  kit_mfr           288062 non-null  object \n",
      " 32  _kit_model        288062 non-null  object \n",
      " 33  mode_s_code_hex   288062 non-null  object \n",
      " 34  unnamed_34        0 non-null       float64\n",
      "dtypes: float64(1), int64(4), object(30)\n",
      "memory usage: 76.9+ MB\n"
     ]
    }
   ],
   "source": [
    "master.info()"
   ]
  },
  {
   "cell_type": "code",
   "execution_count": 8,
   "id": "f4dffaf2",
   "metadata": {},
   "outputs": [],
   "source": [
    "# Strip leading and trailing underscores on some column names\n",
    "\n",
    "master.columns = master.columns.str.rstrip('_')\n",
    "master.columns = master.columns.str.lstrip('_')"
   ]
  },
  {
   "cell_type": "code",
   "execution_count": 9,
   "id": "a055cfaf",
   "metadata": {},
   "outputs": [],
   "source": [
    "# Drop the empty columns at the end of each file (the 'unnamed: xx' fields)\n",
    "\n",
    "master.drop('unnamed_34', inplace=True, axis=1)\n",
    "ref.drop('unnamed_13', inplace=True, axis=1)"
   ]
  },
  {
   "cell_type": "code",
   "execution_count": 10,
   "id": "c84a5b11",
   "metadata": {},
   "outputs": [
    {
     "name": "stdout",
     "output_type": "stream",
     "text": [
      "<class 'pandas.core.frame.DataFrame'>\n",
      "RangeIndex: 288062 entries, 0 to 288061\n",
      "Data columns (total 34 columns):\n",
      " #   Column            Non-Null Count   Dtype \n",
      "---  ------            --------------   ----- \n",
      " 0   n_number          288062 non-null  object\n",
      " 1   serial_number     288062 non-null  object\n",
      " 2   mfr_mdl_code      288062 non-null  object\n",
      " 3   eng_mfr_mdl       288062 non-null  object\n",
      " 4   year_mfr          288062 non-null  object\n",
      " 5   type_registrant   288062 non-null  object\n",
      " 6   name              288062 non-null  object\n",
      " 7   street            288062 non-null  object\n",
      " 8   street2           288062 non-null  object\n",
      " 9   city              288062 non-null  object\n",
      " 10  state             288062 non-null  object\n",
      " 11  zip_code          288062 non-null  object\n",
      " 12  region            288062 non-null  object\n",
      " 13  county            288062 non-null  object\n",
      " 14  country           288062 non-null  object\n",
      " 15  last_action_date  288062 non-null  int64 \n",
      " 16  cert_issue_date   288062 non-null  object\n",
      " 17  certification     288062 non-null  object\n",
      " 18  type_aircraft     288062 non-null  object\n",
      " 19  type_engine       288062 non-null  int64 \n",
      " 20  status_code       288062 non-null  object\n",
      " 21  mode_s_code       288062 non-null  int64 \n",
      " 22  fract_owner       288062 non-null  object\n",
      " 23  air_worth_date    288062 non-null  object\n",
      " 24  other_names_1     288062 non-null  object\n",
      " 25  other_names_2     288062 non-null  object\n",
      " 26  other_names_3     288062 non-null  object\n",
      " 27  other_names_4     288062 non-null  object\n",
      " 28  other_names_5     288062 non-null  object\n",
      " 29  expiration_date   288062 non-null  object\n",
      " 30  unique_id         288062 non-null  int64 \n",
      " 31  kit_mfr           288062 non-null  object\n",
      " 32  kit_model         288062 non-null  object\n",
      " 33  mode_s_code_hex   288062 non-null  object\n",
      "dtypes: int64(4), object(30)\n",
      "memory usage: 74.7+ MB\n"
     ]
    }
   ],
   "source": [
    "master.info()"
   ]
  },
  {
   "cell_type": "code",
   "execution_count": 11,
   "id": "138ca992",
   "metadata": {},
   "outputs": [
    {
     "name": "stdout",
     "output_type": "stream",
     "text": [
      "<class 'pandas.core.frame.DataFrame'>\n",
      "RangeIndex: 90307 entries, 0 to 90306\n",
      "Data columns (total 13 columns):\n",
      " #   Column          Non-Null Count  Dtype \n",
      "---  ------          --------------  ----- \n",
      " 0   code            90307 non-null  object\n",
      " 1   mfr             90307 non-null  object\n",
      " 2   model           90307 non-null  object\n",
      " 3   type_acft       90307 non-null  object\n",
      " 4   type_eng        90307 non-null  int64 \n",
      " 5   ac_cat          90307 non-null  int64 \n",
      " 6   build_cert_ind  90307 non-null  int64 \n",
      " 7   no_eng          90307 non-null  int64 \n",
      " 8   no_seats        90307 non-null  int64 \n",
      " 9   ac_weight       90307 non-null  object\n",
      " 10  speed           90307 non-null  int64 \n",
      " 11  tc_data_sheet   90307 non-null  object\n",
      " 12  tc_data_holder  90307 non-null  object\n",
      "dtypes: int64(6), object(7)\n",
      "memory usage: 9.0+ MB\n"
     ]
    }
   ],
   "source": [
    "ref.info()"
   ]
  },
  {
   "cell_type": "code",
   "execution_count": 12,
   "id": "50585bda",
   "metadata": {},
   "outputs": [],
   "source": [
    "# Rename the code col in the ref dataframe\n",
    "\n",
    "ref.rename(columns = {'code':'mfr_mdl_code'}, inplace = True)"
   ]
  },
  {
   "cell_type": "code",
   "execution_count": 13,
   "id": "b492e4ff",
   "metadata": {},
   "outputs": [],
   "source": [
    "# Merging the two dataframes together on the common field - mfr_mdl_code in master and code in ref\n",
    "\n",
    "joined = pd.merge(ref, master, on='mfr_mdl_code', how='inner')\n",
    "\n",
    "# joined = pd.concat([master.set_index('mfr_mdl_code'),ref.set_index('code')], axis=1, join='inner')\n",
    "\n",
    "# joined = pd.concat([master, ref], axis=0)"
   ]
  },
  {
   "cell_type": "code",
   "execution_count": 14,
   "id": "2757c480",
   "metadata": {},
   "outputs": [
    {
     "name": "stdout",
     "output_type": "stream",
     "text": [
      "<class 'pandas.core.frame.DataFrame'>\n",
      "Int64Index: 288062 entries, 0 to 288061\n",
      "Data columns (total 46 columns):\n",
      " #   Column            Non-Null Count   Dtype \n",
      "---  ------            --------------   ----- \n",
      " 0   mfr_mdl_code      288062 non-null  object\n",
      " 1   mfr               288062 non-null  object\n",
      " 2   model             288062 non-null  object\n",
      " 3   type_acft         288062 non-null  object\n",
      " 4   type_eng          288062 non-null  int64 \n",
      " 5   ac_cat            288062 non-null  int64 \n",
      " 6   build_cert_ind    288062 non-null  int64 \n",
      " 7   no_eng            288062 non-null  int64 \n",
      " 8   no_seats          288062 non-null  int64 \n",
      " 9   ac_weight         288062 non-null  object\n",
      " 10  speed             288062 non-null  int64 \n",
      " 11  tc_data_sheet     288062 non-null  object\n",
      " 12  tc_data_holder    288062 non-null  object\n",
      " 13  n_number          288062 non-null  object\n",
      " 14  serial_number     288062 non-null  object\n",
      " 15  eng_mfr_mdl       288062 non-null  object\n",
      " 16  year_mfr          288062 non-null  object\n",
      " 17  type_registrant   288062 non-null  object\n",
      " 18  name              288062 non-null  object\n",
      " 19  street            288062 non-null  object\n",
      " 20  street2           288062 non-null  object\n",
      " 21  city              288062 non-null  object\n",
      " 22  state             288062 non-null  object\n",
      " 23  zip_code          288062 non-null  object\n",
      " 24  region            288062 non-null  object\n",
      " 25  county            288062 non-null  object\n",
      " 26  country           288062 non-null  object\n",
      " 27  last_action_date  288062 non-null  int64 \n",
      " 28  cert_issue_date   288062 non-null  object\n",
      " 29  certification     288062 non-null  object\n",
      " 30  type_aircraft     288062 non-null  object\n",
      " 31  type_engine       288062 non-null  int64 \n",
      " 32  status_code       288062 non-null  object\n",
      " 33  mode_s_code       288062 non-null  int64 \n",
      " 34  fract_owner       288062 non-null  object\n",
      " 35  air_worth_date    288062 non-null  object\n",
      " 36  other_names_1     288062 non-null  object\n",
      " 37  other_names_2     288062 non-null  object\n",
      " 38  other_names_3     288062 non-null  object\n",
      " 39  other_names_4     288062 non-null  object\n",
      " 40  other_names_5     288062 non-null  object\n",
      " 41  expiration_date   288062 non-null  object\n",
      " 42  unique_id         288062 non-null  int64 \n",
      " 43  kit_mfr           288062 non-null  object\n",
      " 44  kit_model         288062 non-null  object\n",
      " 45  mode_s_code_hex   288062 non-null  object\n",
      "dtypes: int64(10), object(36)\n",
      "memory usage: 103.3+ MB\n"
     ]
    }
   ],
   "source": [
    "# How many records are in the database?\n",
    "# Are any records missing?\n",
    "\n",
    "joined.info()"
   ]
  },
  {
   "cell_type": "code",
   "execution_count": 15,
   "id": "0537ea0d",
   "metadata": {},
   "outputs": [],
   "source": [
    "# Are there duplicates?\n",
    "# Putting all of the duplicate rows into a dataframe of their own\n",
    "\n",
    "joined2 = joined[joined.duplicated()]"
   ]
  },
  {
   "cell_type": "code",
   "execution_count": 16,
   "id": "ee125148",
   "metadata": {},
   "outputs": [
    {
     "name": "stdout",
     "output_type": "stream",
     "text": [
      "<class 'pandas.core.frame.DataFrame'>\n",
      "Int64Index: 0 entries\n",
      "Data columns (total 46 columns):\n",
      " #   Column            Non-Null Count  Dtype \n",
      "---  ------            --------------  ----- \n",
      " 0   mfr_mdl_code      0 non-null      object\n",
      " 1   mfr               0 non-null      object\n",
      " 2   model             0 non-null      object\n",
      " 3   type_acft         0 non-null      object\n",
      " 4   type_eng          0 non-null      int64 \n",
      " 5   ac_cat            0 non-null      int64 \n",
      " 6   build_cert_ind    0 non-null      int64 \n",
      " 7   no_eng            0 non-null      int64 \n",
      " 8   no_seats          0 non-null      int64 \n",
      " 9   ac_weight         0 non-null      object\n",
      " 10  speed             0 non-null      int64 \n",
      " 11  tc_data_sheet     0 non-null      object\n",
      " 12  tc_data_holder    0 non-null      object\n",
      " 13  n_number          0 non-null      object\n",
      " 14  serial_number     0 non-null      object\n",
      " 15  eng_mfr_mdl       0 non-null      object\n",
      " 16  year_mfr          0 non-null      object\n",
      " 17  type_registrant   0 non-null      object\n",
      " 18  name              0 non-null      object\n",
      " 19  street            0 non-null      object\n",
      " 20  street2           0 non-null      object\n",
      " 21  city              0 non-null      object\n",
      " 22  state             0 non-null      object\n",
      " 23  zip_code          0 non-null      object\n",
      " 24  region            0 non-null      object\n",
      " 25  county            0 non-null      object\n",
      " 26  country           0 non-null      object\n",
      " 27  last_action_date  0 non-null      int64 \n",
      " 28  cert_issue_date   0 non-null      object\n",
      " 29  certification     0 non-null      object\n",
      " 30  type_aircraft     0 non-null      object\n",
      " 31  type_engine       0 non-null      int64 \n",
      " 32  status_code       0 non-null      object\n",
      " 33  mode_s_code       0 non-null      int64 \n",
      " 34  fract_owner       0 non-null      object\n",
      " 35  air_worth_date    0 non-null      object\n",
      " 36  other_names_1     0 non-null      object\n",
      " 37  other_names_2     0 non-null      object\n",
      " 38  other_names_3     0 non-null      object\n",
      " 39  other_names_4     0 non-null      object\n",
      " 40  other_names_5     0 non-null      object\n",
      " 41  expiration_date   0 non-null      object\n",
      " 42  unique_id         0 non-null      int64 \n",
      " 43  kit_mfr           0 non-null      object\n",
      " 44  kit_model         0 non-null      object\n",
      " 45  mode_s_code_hex   0 non-null      object\n",
      "dtypes: int64(10), object(36)\n",
      "memory usage: 0.0+ bytes\n"
     ]
    }
   ],
   "source": [
    "# There are not any duplicates.\n",
    "\n",
    "joined2.info()"
   ]
  },
  {
   "cell_type": "code",
   "execution_count": 17,
   "id": "bcd77547",
   "metadata": {},
   "outputs": [],
   "source": [
    "# To test the values, we need just the name values without the extra whitespace\n",
    "\n",
    "joined.name = joined.name.map(str.strip)"
   ]
  },
  {
   "cell_type": "code",
   "execution_count": 18,
   "id": "7b9aeb9b",
   "metadata": {},
   "outputs": [
    {
     "data": {
      "text/plain": [
       "15    29346\n",
       "16    28797\n",
       "14    27579\n",
       "13    23782\n",
       "17    21107\n",
       "20    18316\n",
       "18    17527\n",
       "19    16364\n",
       "12    14428\n",
       "21    10902\n",
       "11     9022\n",
       "22     7914\n",
       "24     6554\n",
       "23     6468\n",
       "10     6271\n",
       "25     5490\n",
       "26     4525\n",
       "27     4503\n",
       "29     3347\n",
       "30     3047\n",
       "9      2863\n",
       "28     2853\n",
       "31     2454\n",
       "35     2046\n",
       "8      1688\n",
       "32     1388\n",
       "7      1223\n",
       "33     1200\n",
       "41     1047\n",
       "34      940\n",
       "38      865\n",
       "36      659\n",
       "40      590\n",
       "37      531\n",
       "39      492\n",
       "0       487\n",
       "45      260\n",
       "43      204\n",
       "42      194\n",
       "44      160\n",
       "46      128\n",
       "48      107\n",
       "47      100\n",
       "50       88\n",
       "49       87\n",
       "6        77\n",
       "4        16\n",
       "5        14\n",
       "3        11\n",
       "2         1\n",
       "Name: name_len, dtype: int64"
      ]
     },
     "execution_count": 18,
     "metadata": {},
     "output_type": "execute_result"
    }
   ],
   "source": [
    "# There are a variety of name lengths incl as of 1/2023 update 487 records with no name\n",
    "\n",
    "joined['name_len'] = joined['name'].astype(str).map(len)\n",
    "joined.name_len.value_counts()"
   ]
  },
  {
   "cell_type": "code",
   "execution_count": 19,
   "id": "7c206d7f",
   "metadata": {},
   "outputs": [],
   "source": [
    "# We need the following fields to concatenate for the \"registrant\" field in the publicaccountability.org search:\n",
    "# name, street, street2, city, state\n",
    "# So let's make sure those are solid\n",
    "# We also need the cert_issue_date for the date field, the manufacturer field, and to add a year field (2023)"
   ]
  },
  {
   "cell_type": "code",
   "execution_count": 20,
   "id": "cf27e515",
   "metadata": {},
   "outputs": [],
   "source": [
    "# All of the fields appear to have the same num of chars, use .strip()\n",
    "\n",
    "joined.street = joined.street.map(str.strip)"
   ]
  },
  {
   "cell_type": "code",
   "execution_count": 21,
   "id": "c0df23cb",
   "metadata": {},
   "outputs": [
    {
     "data": {
      "text/plain": [
       "15    28268\n",
       "16    26856\n",
       "17    25340\n",
       "14    23446\n",
       "18    21606\n",
       "13    20019\n",
       "19    17980\n",
       "10    16393\n",
       "20    14073\n",
       "12    14017\n",
       "11    13625\n",
       "21    13191\n",
       "22     8900\n",
       "23     7723\n",
       "26     6887\n",
       "24     6367\n",
       "25     5197\n",
       "27     4498\n",
       "9      3423\n",
       "28     2744\n",
       "30     1516\n",
       "29     1445\n",
       "31     1182\n",
       "32      950\n",
       "8       873\n",
       "33      733\n",
       "0       490\n",
       "7       185\n",
       "4        72\n",
       "6        42\n",
       "5        14\n",
       "3         7\n",
       "Name: street_len, dtype: int64"
      ]
     },
     "execution_count": 21,
     "metadata": {},
     "output_type": "execute_result"
    }
   ],
   "source": [
    "# There are a variety of address lengths incl as of the 1/2023 update 490 that are blank\n",
    "# Should not be longer than 33 chars\n",
    "\n",
    "joined['street_len'] = joined['street'].astype(str).map(len)\n",
    "joined.street_len.value_counts()"
   ]
  },
  {
   "cell_type": "code",
   "execution_count": 22,
   "id": "b3390a55",
   "metadata": {},
   "outputs": [],
   "source": [
    "# All of the fields appear to have the same num of chars, use .strip()\n",
    "\n",
    "joined.street2 = joined.street2.map(str.strip)"
   ]
  },
  {
   "cell_type": "code",
   "execution_count": 23,
   "id": "14b4f6d2",
   "metadata": {},
   "outputs": [
    {
     "data": {
      "text/plain": [
       "0     277519\n",
       "16      1206\n",
       "24       893\n",
       "18       876\n",
       "8        869\n",
       "15       774\n",
       "31       764\n",
       "11       622\n",
       "17       613\n",
       "13       391\n",
       "19       386\n",
       "14       327\n",
       "21       318\n",
       "26       311\n",
       "23       291\n",
       "20       290\n",
       "12       285\n",
       "22       216\n",
       "7        197\n",
       "10       185\n",
       "28       120\n",
       "25       119\n",
       "27       114\n",
       "9         92\n",
       "30        85\n",
       "33        48\n",
       "29        40\n",
       "32        34\n",
       "5         29\n",
       "6         27\n",
       "4         13\n",
       "2          6\n",
       "3          2\n",
       "Name: street2_len, dtype: int64"
      ]
     },
     "execution_count": 23,
     "metadata": {},
     "output_type": "execute_result"
    }
   ],
   "source": [
    "# There are a variety of name lengths incl as of 1/2023 update 277519 with no values in this field\n",
    "# Should not be longer than \n",
    "\n",
    "joined['street2_len'] = joined['street2'].astype(str).map(len)\n",
    "joined.street2_len.value_counts()"
   ]
  },
  {
   "cell_type": "code",
   "execution_count": 24,
   "id": "def74380",
   "metadata": {},
   "outputs": [],
   "source": [
    "# All of the fields appear to have the same num of chars, use .strip()\n",
    "\n",
    "joined.city = joined.city.map(str.strip)"
   ]
  },
  {
   "cell_type": "code",
   "execution_count": 25,
   "id": "dbd5b934",
   "metadata": {},
   "outputs": [
    {
     "data": {
      "text/plain": [
       "7     42334\n",
       "10    40441\n",
       "6     38281\n",
       "9     37614\n",
       "8     34818\n",
       "11    23694\n",
       "5     17477\n",
       "12    14942\n",
       "13    11137\n",
       "14     8737\n",
       "4      7021\n",
       "15     4661\n",
       "16     3861\n",
       "17     1395\n",
       "18      635\n",
       "3       536\n",
       "0       477\n",
       "2         1\n",
       "Name: city_len, dtype: int64"
      ]
     },
     "execution_count": 25,
     "metadata": {},
     "output_type": "execute_result"
    }
   ],
   "source": [
    "# There are a variety of name lengths incl as of 1/2023 update 277519 with no values in this field\n",
    "# Should not be longer than 18 chars\n",
    "\n",
    "joined['city_len'] = joined['city'].astype(str).map(len)\n",
    "joined.city_len.value_counts()"
   ]
  },
  {
   "cell_type": "code",
   "execution_count": 26,
   "id": "14fc52b8",
   "metadata": {},
   "outputs": [],
   "source": [
    "# All of the fields appear to have the same num of chars, use .strip()\n",
    "\n",
    "joined.state = joined.state.map(str.strip)"
   ]
  },
  {
   "cell_type": "code",
   "execution_count": 27,
   "id": "6af61dbd",
   "metadata": {},
   "outputs": [
    {
     "data": {
      "text/plain": [
       "2    286126\n",
       "0      1936\n",
       "Name: state_len, dtype: int64"
      ]
     },
     "execution_count": 27,
     "metadata": {},
     "output_type": "execute_result"
    }
   ],
   "source": [
    "# There are a variety of name lengths incl as of 1/2023 update 1936 with no values in this field\n",
    "# Should not be longer than 2 chars\n",
    "\n",
    "joined['state_len'] = joined['state'].astype(str).map(len)\n",
    "joined.state_len.value_counts()"
   ]
  },
  {
   "cell_type": "code",
   "execution_count": 28,
   "id": "ea94dd51",
   "metadata": {},
   "outputs": [],
   "source": [
    "# All of the fields appear to have the same num of chars, use .strip()\n",
    "\n",
    "joined.mfr = joined.mfr.map(str.strip)"
   ]
  },
  {
   "cell_type": "code",
   "execution_count": 29,
   "id": "feb7da22",
   "metadata": {},
   "outputs": [
    {
     "data": {
      "text/plain": [
       "6     88839\n",
       "5     64964\n",
       "18    12479\n",
       "14    11101\n",
       "7     10462\n",
       "8      8733\n",
       "15     7954\n",
       "11     6879\n",
       "20     6805\n",
       "17     6758\n",
       "16     5983\n",
       "13     5559\n",
       "4      5021\n",
       "27     4472\n",
       "19     4446\n",
       "22     4344\n",
       "10     4273\n",
       "12     4027\n",
       "25     3952\n",
       "30     3278\n",
       "9      3160\n",
       "21     2932\n",
       "26     2852\n",
       "24     2620\n",
       "23     2296\n",
       "3      2082\n",
       "29     1152\n",
       "28      638\n",
       "2         1\n",
       "Name: mfr_len, dtype: int64"
      ]
     },
     "execution_count": 29,
     "metadata": {},
     "output_type": "execute_result"
    }
   ],
   "source": [
    "# There are a variety of mfr lengths\n",
    "# Should not be longer than 30 chars\n",
    "\n",
    "joined['mfr_len'] = joined['mfr'].astype(str).map(len)\n",
    "joined.mfr_len.value_counts()"
   ]
  },
  {
   "cell_type": "code",
   "execution_count": 30,
   "id": "6956be35",
   "metadata": {},
   "outputs": [
    {
     "name": "stdout",
     "output_type": "stream",
     "text": [
      "<class 'pandas.core.frame.DataFrame'>\n",
      "Int64Index: 288062 entries, 0 to 288061\n",
      "Data columns (total 52 columns):\n",
      " #   Column            Non-Null Count   Dtype \n",
      "---  ------            --------------   ----- \n",
      " 0   mfr_mdl_code      288062 non-null  object\n",
      " 1   mfr               288062 non-null  object\n",
      " 2   model             288062 non-null  object\n",
      " 3   type_acft         288062 non-null  object\n",
      " 4   type_eng          288062 non-null  int64 \n",
      " 5   ac_cat            288062 non-null  int64 \n",
      " 6   build_cert_ind    288062 non-null  int64 \n",
      " 7   no_eng            288062 non-null  int64 \n",
      " 8   no_seats          288062 non-null  int64 \n",
      " 9   ac_weight         288062 non-null  object\n",
      " 10  speed             288062 non-null  int64 \n",
      " 11  tc_data_sheet     288062 non-null  object\n",
      " 12  tc_data_holder    288062 non-null  object\n",
      " 13  n_number          288062 non-null  object\n",
      " 14  serial_number     288062 non-null  object\n",
      " 15  eng_mfr_mdl       288062 non-null  object\n",
      " 16  year_mfr          288062 non-null  object\n",
      " 17  type_registrant   288062 non-null  object\n",
      " 18  name              288062 non-null  object\n",
      " 19  street            288062 non-null  object\n",
      " 20  street2           288062 non-null  object\n",
      " 21  city              288062 non-null  object\n",
      " 22  state             288062 non-null  object\n",
      " 23  zip_code          288062 non-null  object\n",
      " 24  region            288062 non-null  object\n",
      " 25  county            288062 non-null  object\n",
      " 26  country           288062 non-null  object\n",
      " 27  last_action_date  288062 non-null  int64 \n",
      " 28  cert_issue_date   288062 non-null  object\n",
      " 29  certification     288062 non-null  object\n",
      " 30  type_aircraft     288062 non-null  object\n",
      " 31  type_engine       288062 non-null  int64 \n",
      " 32  status_code       288062 non-null  object\n",
      " 33  mode_s_code       288062 non-null  int64 \n",
      " 34  fract_owner       288062 non-null  object\n",
      " 35  air_worth_date    288062 non-null  object\n",
      " 36  other_names_1     288062 non-null  object\n",
      " 37  other_names_2     288062 non-null  object\n",
      " 38  other_names_3     288062 non-null  object\n",
      " 39  other_names_4     288062 non-null  object\n",
      " 40  other_names_5     288062 non-null  object\n",
      " 41  expiration_date   288062 non-null  object\n",
      " 42  unique_id         288062 non-null  int64 \n",
      " 43  kit_mfr           288062 non-null  object\n",
      " 44  kit_model         288062 non-null  object\n",
      " 45  mode_s_code_hex   288062 non-null  object\n",
      " 46  name_len          288062 non-null  int64 \n",
      " 47  street_len        288062 non-null  int64 \n",
      " 48  street2_len       288062 non-null  int64 \n",
      " 49  city_len          288062 non-null  int64 \n",
      " 50  state_len         288062 non-null  int64 \n",
      " 51  mfr_len           288062 non-null  int64 \n",
      "dtypes: int64(16), object(36)\n",
      "memory usage: 116.5+ MB\n"
     ]
    }
   ],
   "source": [
    "joined.info()"
   ]
  },
  {
   "cell_type": "code",
   "execution_count": 31,
   "id": "74011eb1",
   "metadata": {},
   "outputs": [],
   "source": [
    "joined.drop(['name_len', 'street_len', 'street2_len', 'city_len', 'state_len', 'mfr_len'], axis=1, inplace=True)"
   ]
  },
  {
   "cell_type": "code",
   "execution_count": 32,
   "id": "75c010f7",
   "metadata": {},
   "outputs": [],
   "source": [
    "# Creating a US 5-digit ZIP code field\n",
    "# This will fill the uszip5 field with ZEROES where the country is not USA\n",
    "\n",
    "joined['uszip5'] = np.where(joined['country'] == 'US', joined['zip_code'].astype(str).str[:5], '')"
   ]
  },
  {
   "cell_type": "code",
   "execution_count": 35,
   "id": "34815fe7",
   "metadata": {},
   "outputs": [],
   "source": [
    "# This is to be sure the 5-digit ZIPs that begin with leading 0s do have the leading 0s -\n",
    "# Python strips them, and, when we export to .csv, they will not show up in Excel - so the ZIP 01234 would appear as 1234\n",
    "# However, if you open the file in Sublime Text, the 0s are there\n",
    "\n",
    "joined['uszip5'] = joined['uszip5'].str.zfill(5)"
   ]
  },
  {
   "cell_type": "code",
   "execution_count": 33,
   "id": "abf5d248",
   "metadata": {},
   "outputs": [],
   "source": [
    "# Add year field\n",
    "\n",
    "joined['year'] = 2023"
   ]
  },
  {
   "cell_type": "code",
   "execution_count": 36,
   "id": "064624ac",
   "metadata": {},
   "outputs": [],
   "source": [
    "# Export\n",
    "# Per the note here: https://registry.faa.gov/aircraftinquiry:\n",
    "# The duration of aircraft registration certificates has been extended up to 7 years. \n",
    "# The Registry will be issuing revised certificates in batches based on the former expiration date. \n",
    "# For verification purposes, even though the expiration date on the registration certificate may not match the expiration \n",
    "# date in the FAA Aircraft Registration database, any registration certificate displaying an expiration date of January 31, 2023 \n",
    "# or later is still valid. This applies to all foreign Civil Aviation Authorities or anyone else with a verification need.\n",
    "\n",
    "joined.to_csv('aircraft_2023.csv', index=False)"
   ]
  },
  {
   "cell_type": "code",
   "execution_count": null,
   "id": "d694f833",
   "metadata": {},
   "outputs": [],
   "source": [
    "# Here's a bunch of code I wrote before I realized we didn't need it \n",
    "\n",
    "# Check numeric date ranges. Anything too high or too low?\n",
    "# There are a lot of numerical fields in this dataset. We'll check the ones with numbers only - \n",
    "# There are some fields with a combination of letters and numbers\n",
    "# Fields with numerical values to check:\n",
    "# type_eng, ac_cat, build_cert_ind, no_eng, no_seats, speed, last_action_date, type_engine, mode_s_code \n",
    "# Similar to what I did with the pilots data, I'll use value_counts"
   ]
  },
  {
   "cell_type": "code",
   "execution_count": 18,
   "id": "6be9c5e5",
   "metadata": {},
   "outputs": [
    {
     "data": {
      "text/plain": [
       "1     203530\n",
       "5      25427\n",
       "8      19159\n",
       "2      12889\n",
       "0       8723\n",
       "3       8446\n",
       "7       4711\n",
       "10      3343\n",
       "4       1751\n",
       "11        73\n",
       "9          5\n",
       "6          5\n",
       "Name: type_eng, dtype: int64"
      ]
     },
     "execution_count": 18,
     "metadata": {},
     "output_type": "execute_result"
    }
   ],
   "source": [
    "# The type_eng values should be between or equal to 1 and 11, per docs\n",
    "\n",
    "joined.type_eng.value_counts()"
   ]
  },
  {
   "cell_type": "code",
   "execution_count": 19,
   "id": "c13d54d9",
   "metadata": {},
   "outputs": [
    {
     "data": {
      "text/plain": [
       "1    285018\n",
       "3      2837\n",
       "2       207\n",
       "Name: ac_cat, dtype: int64"
      ]
     },
     "execution_count": 19,
     "metadata": {},
     "output_type": "execute_result"
    }
   ],
   "source": [
    "# The ac_cat values should be 1, 2 or 3, per docs\n",
    "\n",
    "joined.ac_cat.value_counts()"
   ]
  },
  {
   "cell_type": "code",
   "execution_count": 20,
   "id": "534a7f9f",
   "metadata": {},
   "outputs": [
    {
     "data": {
      "text/plain": [
       "0    235981\n",
       "1     43065\n",
       "2      9016\n",
       "Name: build_cert_ind, dtype: int64"
      ]
     },
     "execution_count": 20,
     "metadata": {},
     "output_type": "execute_result"
    }
   ],
   "source": [
    "# The build_cert_ind values should be 1, 2 or 3, per docs\n",
    "\n",
    "joined.build_cert_ind.value_counts()"
   ]
  },
  {
   "cell_type": "code",
   "execution_count": 21,
   "id": "70c5448a",
   "metadata": {},
   "outputs": [
    {
     "data": {
      "text/plain": [
       "1     226124\n",
       "2      48589\n",
       "0       8730\n",
       "4       2466\n",
       "3       1117\n",
       "6        650\n",
       "8        266\n",
       "5         61\n",
       "9         14\n",
       "12        13\n",
       "10        13\n",
       "20         5\n",
       "13         5\n",
       "16         4\n",
       "14         1\n",
       "32         1\n",
       "18         1\n",
       "7          1\n",
       "33         1\n",
       "Name: no_eng, dtype: int64"
      ]
     },
     "execution_count": 21,
     "metadata": {},
     "output_type": "execute_result"
    }
   ],
   "source": [
    "# The no_eng values can vary. This field is the number of engines in the registered aircraft.\n",
    "\n",
    "joined.no_eng.value_counts()"
   ]
  },
  {
   "cell_type": "code",
   "execution_count": 22,
   "id": "c7c242e5",
   "metadata": {},
   "outputs": [
    {
     "data": {
      "text/plain": [
       "4      96271\n",
       "2      82537\n",
       "6      27454\n",
       "1      16979\n",
       "5       9168\n",
       "       ...  \n",
       "131        1\n",
       "128        1\n",
       "250        1\n",
       "273        1\n",
       "195        1\n",
       "Name: no_seats, Length: 171, dtype: int64"
      ]
     },
     "execution_count": 22,
     "metadata": {},
     "output_type": "execute_result"
    }
   ],
   "source": [
    "# The no_seats values can vary. This field is the number of seats in the registered aircraft.\n",
    "\n",
    "joined.no_seats.value_counts()"
   ]
  },
  {
   "cell_type": "code",
   "execution_count": 23,
   "id": "97fe7903",
   "metadata": {},
   "outputs": [
    {
     "data": {
      "text/plain": [
       "0       135675\n",
       "105      21905\n",
       "90       15269\n",
       "107      10760\n",
       "108       8395\n",
       "         ...  \n",
       "177          1\n",
       "282          1\n",
       "62           1\n",
       "237          1\n",
       "1125         1\n",
       "Name: speed, Length: 201, dtype: int64"
      ]
     },
     "execution_count": 23,
     "metadata": {},
     "output_type": "execute_result"
    }
   ],
   "source": [
    "# The speed values can vary. This field is the registered aircraft's cruising speed.\n",
    "# As of the January update, one plane is listed with a cruising speed of 1,125\n",
    "# Upon further inspection, the plane is a single-engine and weighs less than 12,500 pounds, so I think this is an error.\n",
    "\n",
    "joined.speed.value_counts()"
   ]
  },
  {
   "cell_type": "code",
   "execution_count": 24,
   "id": "25edd020",
   "metadata": {},
   "outputs": [],
   "source": [
    "# The last_action_date values will be dates formatted as YYYYMMDD\n",
    "# To really investigate the integrity of this field, we would need to look separately at YYYY, MM, DD\n",
    "# But we'll just leave that instruction here for anyone working with this data, and for this script\n",
    "# I will just make sure that the values are the proper length\n",
    "# To do that we will need to convert it to a string first\n",
    "\n",
    "joined['last_action_date'] = joined['last_action_date'].astype(str)"
   ]
  },
  {
   "cell_type": "code",
   "execution_count": 25,
   "id": "25e7389d",
   "metadata": {},
   "outputs": [],
   "source": [
    "# Now check if it's too short or too long\n",
    "# Create a new column of lengths for each value in last_action_date\n",
    "\n",
    "joined['last_action_datelen'] = joined['last_action_date'].astype(str).map(len)"
   ]
  },
  {
   "cell_type": "code",
   "execution_count": 26,
   "id": "fbf11edf",
   "metadata": {},
   "outputs": [
    {
     "data": {
      "text/plain": [
       "8    288062\n",
       "Name: last_action_datelen, dtype: int64"
      ]
     },
     "execution_count": 26,
     "metadata": {},
     "output_type": "execute_result"
    }
   ],
   "source": [
    "# Check values in created col\n",
    "# Should be 8\n",
    "\n",
    "joined.last_action_datelen.value_counts()"
   ]
  },
  {
   "cell_type": "code",
   "execution_count": 27,
   "id": "50a127b6",
   "metadata": {},
   "outputs": [
    {
     "data": {
      "text/plain": [
       "1     203506\n",
       "5      25425\n",
       "8      19175\n",
       "2      12891\n",
       "0       8723\n",
       "3       8448\n",
       "7       4711\n",
       "10      3346\n",
       "4       1754\n",
       "11        73\n",
       "9          5\n",
       "6          5\n",
       "Name: type_engine, dtype: int64"
      ]
     },
     "execution_count": 27,
     "metadata": {},
     "output_type": "execute_result"
    }
   ],
   "source": [
    "# Type engine should be int values 0 through 11\n",
    "\n",
    "joined.type_engine.value_counts()"
   ]
  },
  {
   "cell_type": "code",
   "execution_count": 28,
   "id": "22e413b5",
   "metadata": {},
   "outputs": [],
   "source": [
    "# The values of mode_s_code vary but should be 8 characters in length \n",
    "# Change to string first\n",
    "\n",
    "joined['mode_s_code'] = joined['mode_s_code'].astype(str)"
   ]
  },
  {
   "cell_type": "code",
   "execution_count": 29,
   "id": "e9c11c57",
   "metadata": {},
   "outputs": [],
   "source": [
    "# Now check if it's too short or too long\n",
    "# Create a new column of lengths for each value\n",
    "\n",
    "joined['mode_s_codelen'] = joined['mode_s_code'].astype(str).map(len)"
   ]
  },
  {
   "cell_type": "code",
   "execution_count": 30,
   "id": "e52b18e7",
   "metadata": {},
   "outputs": [
    {
     "data": {
      "text/plain": [
       "8    288062\n",
       "Name: mode_s_codelen, dtype: int64"
      ]
     },
     "execution_count": 30,
     "metadata": {},
     "output_type": "execute_result"
    }
   ],
   "source": [
    "# Check values in created col\n",
    "# Should be 8\n",
    "\n",
    "joined.mode_s_codelen.value_counts()"
   ]
  },
  {
   "cell_type": "code",
   "execution_count": 31,
   "id": "b09fabbc",
   "metadata": {},
   "outputs": [],
   "source": [
    "# Now drop the len cols created \n",
    "\n",
    "joined = joined.drop(['last_action_datelen', 'mode_s_codelen'], axis=1)"
   ]
  },
  {
   "cell_type": "code",
   "execution_count": 32,
   "id": "2de482a0",
   "metadata": {},
   "outputs": [
    {
     "name": "stdout",
     "output_type": "stream",
     "text": [
      "<class 'pandas.core.frame.DataFrame'>\n",
      "Int64Index: 288062 entries, 0 to 288061\n",
      "Data columns (total 46 columns):\n",
      " #   Column            Non-Null Count   Dtype \n",
      "---  ------            --------------   ----- \n",
      " 0   mfr_mdl_code      288062 non-null  object\n",
      " 1   mfr               288062 non-null  object\n",
      " 2   model             288062 non-null  object\n",
      " 3   type_acft         288062 non-null  object\n",
      " 4   type_eng          288062 non-null  int64 \n",
      " 5   ac_cat            288062 non-null  int64 \n",
      " 6   build_cert_ind    288062 non-null  int64 \n",
      " 7   no_eng            288062 non-null  int64 \n",
      " 8   no_seats          288062 non-null  int64 \n",
      " 9   ac_weight         288062 non-null  object\n",
      " 10  speed             288062 non-null  int64 \n",
      " 11  tc_data_sheet     288062 non-null  object\n",
      " 12  tc_data_holder    288062 non-null  object\n",
      " 13  n_number          288062 non-null  object\n",
      " 14  serial_number     288062 non-null  object\n",
      " 15  eng_mfr_mdl       288062 non-null  object\n",
      " 16  year_mfr          288062 non-null  object\n",
      " 17  type_registrant   288062 non-null  object\n",
      " 18  name              288062 non-null  object\n",
      " 19  street            288062 non-null  object\n",
      " 20  street2           288062 non-null  object\n",
      " 21  city              288062 non-null  object\n",
      " 22  state             288062 non-null  object\n",
      " 23  zip_code          288062 non-null  object\n",
      " 24  region            288062 non-null  object\n",
      " 25  county            288062 non-null  object\n",
      " 26  country           288062 non-null  object\n",
      " 27  last_action_date  288062 non-null  object\n",
      " 28  cert_issue_date   288062 non-null  object\n",
      " 29  certification     288062 non-null  object\n",
      " 30  type_aircraft     288062 non-null  object\n",
      " 31  type_engine       288062 non-null  int64 \n",
      " 32  status_code       288062 non-null  object\n",
      " 33  mode_s_code       288062 non-null  object\n",
      " 34  fract_owner       288062 non-null  object\n",
      " 35  air_worth_date    288062 non-null  object\n",
      " 36  other_names_1     288062 non-null  object\n",
      " 37  other_names_2     288062 non-null  object\n",
      " 38  other_names_3     288062 non-null  object\n",
      " 39  other_names_4     288062 non-null  object\n",
      " 40  other_names_5     288062 non-null  object\n",
      " 41  expiration_date   288062 non-null  object\n",
      " 42  unique_id         288062 non-null  int64 \n",
      " 43  kit_mfr           288062 non-null  object\n",
      " 44  kit_model         288062 non-null  object\n",
      " 45  mode_s_code_hex   288062 non-null  object\n",
      "dtypes: int64(8), object(38)\n",
      "memory usage: 103.3+ MB\n"
     ]
    }
   ],
   "source": [
    "# Is there anything blank or missing?\n",
    "\n",
    "joined.info()"
   ]
  },
  {
   "cell_type": "code",
   "execution_count": 33,
   "id": "afe65a80",
   "metadata": {},
   "outputs": [],
   "source": [
    "# Is there information in the wrong field?\n",
    "# Let's look at all of the fields and what's supposed to be in them:\n",
    "# The following fields are in the documents downloaded from the FAA website but they do not appear in the files as of Jan. 2023\n",
    "# Aircraft Mfr Model Code - this is missing from the MASTER.txt file\n",
    "# Now we'll actually check what values should be in each field and if the values in the data match the prescribed values\n",
    "# It is worth noting that all fields appear to be all the same length"
   ]
  },
  {
   "cell_type": "code",
   "execution_count": 34,
   "id": "9eae0826",
   "metadata": {},
   "outputs": [
    {
     "name": "stdout",
     "output_type": "stream",
     "text": [
      "Empty DataFrame\n",
      "Columns: [mfr_mdl_code, mfr, model, type_acft, type_eng, ac_cat, build_cert_ind, no_eng, no_seats, ac_weight, speed, tc_data_sheet, tc_data_holder, n_number, serial_number, eng_mfr_mdl, year_mfr, type_registrant, name, street, street2, city, state, zip_code, region, county, country, last_action_date, cert_issue_date, certification, type_aircraft, type_engine, status_code, mode_s_code, fract_owner, air_worth_date, other_names_1, other_names_2, other_names_3, other_names_4, other_names_5, expiration_date, unique_id, kit_mfr, kit_model, mode_s_code_hex]\n",
      "Index: []\n",
      "\n",
      "[0 rows x 46 columns]\n"
     ]
    }
   ],
   "source": [
    "# The n-number field should not be longer than 5 chars\n",
    "# Create a new column for any values that are longer than 5 chars (we will delete this col later)\n",
    "# Print it, and if there are 0 rows, we're good to go\n",
    "\n",
    "mask = ((joined['n_number'].str.len()) > 5)\n",
    "test_df = joined.loc[mask]\n",
    "print(test_df)"
   ]
  },
  {
   "cell_type": "code",
   "execution_count": 35,
   "id": "9a0f7818",
   "metadata": {},
   "outputs": [
    {
     "name": "stdout",
     "output_type": "stream",
     "text": [
      "Empty DataFrame\n",
      "Columns: [mfr_mdl_code, mfr, model, type_acft, type_eng, ac_cat, build_cert_ind, no_eng, no_seats, ac_weight, speed, tc_data_sheet, tc_data_holder, n_number, serial_number, eng_mfr_mdl, year_mfr, type_registrant, name, street, street2, city, state, zip_code, region, county, country, last_action_date, cert_issue_date, certification, type_aircraft, type_engine, status_code, mode_s_code, fract_owner, air_worth_date, other_names_1, other_names_2, other_names_3, other_names_4, other_names_5, expiration_date, unique_id, kit_mfr, kit_model, mode_s_code_hex]\n",
      "Index: []\n",
      "\n",
      "[0 rows x 46 columns]\n"
     ]
    }
   ],
   "source": [
    "# Serial numbers can be as short as three characters or as long as 30\n",
    "\n",
    "mask = ((joined['serial_number'].str.len()) > 30)\n",
    "test_df = joined.loc[mask]\n",
    "print(test_df)"
   ]
  },
  {
   "cell_type": "code",
   "execution_count": 36,
   "id": "69701d20",
   "metadata": {},
   "outputs": [
    {
     "name": "stdout",
     "output_type": "stream",
     "text": [
      "Empty DataFrame\n",
      "Columns: [mfr_mdl_code, mfr, model, type_acft, type_eng, ac_cat, build_cert_ind, no_eng, no_seats, ac_weight, speed, tc_data_sheet, tc_data_holder, n_number, serial_number, eng_mfr_mdl, year_mfr, type_registrant, name, street, street2, city, state, zip_code, region, county, country, last_action_date, cert_issue_date, certification, type_aircraft, type_engine, status_code, mode_s_code, fract_owner, air_worth_date, other_names_1, other_names_2, other_names_3, other_names_4, other_names_5, expiration_date, unique_id, kit_mfr, kit_model, mode_s_code_hex]\n",
      "Index: []\n",
      "\n",
      "[0 rows x 46 columns]\n"
     ]
    }
   ],
   "source": [
    "# Engine manufacturer mode code should be 5 chars \n",
    "\n",
    "mask = ((joined['eng_mfr_mdl'].str.len()) != 5)\n",
    "test_df = joined.loc[mask]\n",
    "print(test_df)"
   ]
  },
  {
   "cell_type": "code",
   "execution_count": 37,
   "id": "c46c7c76",
   "metadata": {},
   "outputs": [
    {
     "name": "stdout",
     "output_type": "stream",
     "text": [
      "Empty DataFrame\n",
      "Columns: [mfr_mdl_code, mfr, model, type_acft, type_eng, ac_cat, build_cert_ind, no_eng, no_seats, ac_weight, speed, tc_data_sheet, tc_data_holder, n_number, serial_number, eng_mfr_mdl, year_mfr, type_registrant, name, street, street2, city, state, zip_code, region, county, country, last_action_date, cert_issue_date, certification, type_aircraft, type_engine, status_code, mode_s_code, fract_owner, air_worth_date, other_names_1, other_names_2, other_names_3, other_names_4, other_names_5, expiration_date, unique_id, kit_mfr, kit_model, mode_s_code_hex]\n",
      "Index: []\n",
      "\n",
      "[0 rows x 46 columns]\n"
     ]
    }
   ],
   "source": [
    "# Year should be 4 chars\n",
    "\n",
    "mask = ((joined['year_mfr'].str.len()) != 4)\n",
    "test_df = joined.loc[mask]\n",
    "print(test_df)"
   ]
  },
  {
   "cell_type": "code",
   "execution_count": 38,
   "id": "1f699204",
   "metadata": {},
   "outputs": [
    {
     "name": "stdout",
     "output_type": "stream",
     "text": [
      "Empty DataFrame\n",
      "Columns: [mfr_mdl_code, mfr, model, type_acft, type_eng, ac_cat, build_cert_ind, no_eng, no_seats, ac_weight, speed, tc_data_sheet, tc_data_holder, n_number, serial_number, eng_mfr_mdl, year_mfr, type_registrant, name, street, street2, city, state, zip_code, region, county, country, last_action_date, cert_issue_date, certification, type_aircraft, type_engine, status_code, mode_s_code, fract_owner, air_worth_date, other_names_1, other_names_2, other_names_3, other_names_4, other_names_5, expiration_date, unique_id, kit_mfr, kit_model, mode_s_code_hex]\n",
      "Index: []\n",
      "\n",
      "[0 rows x 46 columns]\n"
     ]
    }
   ],
   "source": [
    "# Type registrant can be any value from 1 to 9\n",
    "\n",
    "mask = ((joined['type_registrant'].str.len()) < 1 & (joined['type_registrant'].str.len() > 9))\n",
    "test_df = joined.loc[mask]\n",
    "print(test_df)"
   ]
  },
  {
   "cell_type": "code",
   "execution_count": 39,
   "id": "0e4cb352",
   "metadata": {},
   "outputs": [
    {
     "name": "stdout",
     "output_type": "stream",
     "text": [
      "False    288062\n",
      "Name: name, dtype: int64\n"
     ]
    }
   ],
   "source": [
    "# The next few fields are long-text fields; registrant's name, address (street and street 2), city, state\n",
    "# This line checks to make sure none of these fields have numbers\n",
    "# There are no numbers\n",
    "\n",
    "x = joined.name.str.isalpha()\n",
    "print(x.value_counts())"
   ]
  }
 ],
 "metadata": {
  "kernelspec": {
   "display_name": "Python 3 (ipykernel)",
   "language": "python",
   "name": "python3"
  },
  "language_info": {
   "codemirror_mode": {
    "name": "ipython",
    "version": 3
   },
   "file_extension": ".py",
   "mimetype": "text/x-python",
   "name": "python",
   "nbconvert_exporter": "python",
   "pygments_lexer": "ipython3",
   "version": "3.11.1"
  }
 },
 "nbformat": 4,
 "nbformat_minor": 5
}
